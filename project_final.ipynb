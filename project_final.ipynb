{
 "cells": [
  {
   "cell_type": "code",
   "execution_count": 119,
   "metadata": {},
   "outputs": [],
   "source": [
    "import pandas as pd\n",
    "import numpy as np\n",
    "import matplotlib as mpl\n",
    "import matplotlib.pyplot as plt\n",
    "import seaborn as sns\n",
    "\n",
    "import sklearn.linear_model as skl_lm\n",
    "from sklearn.feature_selection import SequentialFeatureSelector\n",
    "from sklearn.discriminant_analysis import LinearDiscriminantAnalysis\n",
    "from sklearn.discriminant_analysis import QuadraticDiscriminantAnalysis\n",
    "from sklearn.metrics import confusion_matrix, classification_report, precision_score, r2_score, mean_squared_error\n",
    "from sklearn import preprocessing\n",
    "from sklearn import neighbors\n",
    "from sklearn.model_selection import train_test_split\n",
    "from sklearn.model_selection import RepeatedKFold\n",
    "from sklearn.model_selection import cross_val_score, KFold\n",
    "from sklearn.linear_model import LinearRegression\n",
    "from sklearn.linear_model import Ridge, RidgeCV, Lasso, LassoCV\n",
    "from sklearn.preprocessing import scale\n",
    "from sklearn.preprocessing import StandardScaler, MinMaxScaler, normalize, PolynomialFeatures\n",
    "from sklearn.metrics import mean_squared_error\n",
    "from sklearn.decomposition import PCA\n",
    "from numpy import mean, std, absolute, arange\n",
    "\n",
    "import statsmodels.api as sm\n",
    "import statsmodels.formula.api as smf\n",
    "\n",
    "import ISLP\n",
    "from ISLP.models import (ModelSpec,\n",
    "                         summarize,\n",
    "                         Column,\n",
    "                         Feature,\n",
    "                         build_columns, poly)\n",
    "\n"
   ]
  },
  {
   "cell_type": "code",
   "execution_count": 80,
   "metadata": {},
   "outputs": [
    {
     "name": "stdout",
     "output_type": "stream",
     "text": [
      "<class 'pandas.core.frame.DataFrame'>\n",
      "RangeIndex: 17379 entries, 0 to 17378\n",
      "Data columns (total 15 columns):\n",
      " #   Column      Non-Null Count  Dtype  \n",
      "---  ------      --------------  -----  \n",
      " 0   season      17379 non-null  object \n",
      " 1   yr          17379 non-null  int64  \n",
      " 2   mnth        17379 non-null  object \n",
      " 3   hr          17379 non-null  int64  \n",
      " 4   holiday     17379 non-null  object \n",
      " 5   weekday     17379 non-null  object \n",
      " 6   workingday  17379 non-null  object \n",
      " 7   weathersit  17379 non-null  object \n",
      " 8   temp        17379 non-null  float64\n",
      " 9   atemp       17379 non-null  float64\n",
      " 10  hum         17379 non-null  float64\n",
      " 11  windspeed   17379 non-null  float64\n",
      " 12  casual      17379 non-null  int64  \n",
      " 13  registered  17379 non-null  int64  \n",
      " 14  cnt         17379 non-null  int64  \n",
      "dtypes: float64(4), int64(5), object(6)\n",
      "memory usage: 2.0+ MB\n"
     ]
    },
    {
     "data": {
      "text/html": [
       "<div>\n",
       "<style scoped>\n",
       "    .dataframe tbody tr th:only-of-type {\n",
       "        vertical-align: middle;\n",
       "    }\n",
       "\n",
       "    .dataframe tbody tr th {\n",
       "        vertical-align: top;\n",
       "    }\n",
       "\n",
       "    .dataframe thead th {\n",
       "        text-align: right;\n",
       "    }\n",
       "</style>\n",
       "<table border=\"1\" class=\"dataframe\">\n",
       "  <thead>\n",
       "    <tr style=\"text-align: right;\">\n",
       "      <th></th>\n",
       "      <th>season</th>\n",
       "      <th>yr</th>\n",
       "      <th>mnth</th>\n",
       "      <th>hr</th>\n",
       "      <th>holiday</th>\n",
       "      <th>weekday</th>\n",
       "      <th>workingday</th>\n",
       "      <th>weathersit</th>\n",
       "      <th>temp</th>\n",
       "      <th>atemp</th>\n",
       "      <th>hum</th>\n",
       "      <th>windspeed</th>\n",
       "      <th>casual</th>\n",
       "      <th>registered</th>\n",
       "      <th>cnt</th>\n",
       "    </tr>\n",
       "  </thead>\n",
       "  <tbody>\n",
       "    <tr>\n",
       "      <th>0</th>\n",
       "      <td>spring</td>\n",
       "      <td>0</td>\n",
       "      <td>january</td>\n",
       "      <td>0</td>\n",
       "      <td>no</td>\n",
       "      <td>saturday</td>\n",
       "      <td>no</td>\n",
       "      <td>clear</td>\n",
       "      <td>0.24</td>\n",
       "      <td>0.2879</td>\n",
       "      <td>0.81</td>\n",
       "      <td>0.0</td>\n",
       "      <td>3</td>\n",
       "      <td>13</td>\n",
       "      <td>16</td>\n",
       "    </tr>\n",
       "    <tr>\n",
       "      <th>1</th>\n",
       "      <td>spring</td>\n",
       "      <td>0</td>\n",
       "      <td>january</td>\n",
       "      <td>1</td>\n",
       "      <td>no</td>\n",
       "      <td>saturday</td>\n",
       "      <td>no</td>\n",
       "      <td>clear</td>\n",
       "      <td>0.22</td>\n",
       "      <td>0.2727</td>\n",
       "      <td>0.80</td>\n",
       "      <td>0.0</td>\n",
       "      <td>8</td>\n",
       "      <td>32</td>\n",
       "      <td>40</td>\n",
       "    </tr>\n",
       "    <tr>\n",
       "      <th>2</th>\n",
       "      <td>spring</td>\n",
       "      <td>0</td>\n",
       "      <td>january</td>\n",
       "      <td>2</td>\n",
       "      <td>no</td>\n",
       "      <td>saturday</td>\n",
       "      <td>no</td>\n",
       "      <td>clear</td>\n",
       "      <td>0.22</td>\n",
       "      <td>0.2727</td>\n",
       "      <td>0.80</td>\n",
       "      <td>0.0</td>\n",
       "      <td>5</td>\n",
       "      <td>27</td>\n",
       "      <td>32</td>\n",
       "    </tr>\n",
       "    <tr>\n",
       "      <th>3</th>\n",
       "      <td>spring</td>\n",
       "      <td>0</td>\n",
       "      <td>january</td>\n",
       "      <td>3</td>\n",
       "      <td>no</td>\n",
       "      <td>saturday</td>\n",
       "      <td>no</td>\n",
       "      <td>clear</td>\n",
       "      <td>0.24</td>\n",
       "      <td>0.2879</td>\n",
       "      <td>0.75</td>\n",
       "      <td>0.0</td>\n",
       "      <td>3</td>\n",
       "      <td>10</td>\n",
       "      <td>13</td>\n",
       "    </tr>\n",
       "    <tr>\n",
       "      <th>4</th>\n",
       "      <td>spring</td>\n",
       "      <td>0</td>\n",
       "      <td>january</td>\n",
       "      <td>4</td>\n",
       "      <td>no</td>\n",
       "      <td>saturday</td>\n",
       "      <td>no</td>\n",
       "      <td>clear</td>\n",
       "      <td>0.24</td>\n",
       "      <td>0.2879</td>\n",
       "      <td>0.75</td>\n",
       "      <td>0.0</td>\n",
       "      <td>0</td>\n",
       "      <td>1</td>\n",
       "      <td>1</td>\n",
       "    </tr>\n",
       "  </tbody>\n",
       "</table>\n",
       "</div>"
      ],
      "text/plain": [
       "   season  yr     mnth  hr holiday   weekday workingday weathersit  temp  \\\n",
       "0  spring   0  january   0      no  saturday         no      clear  0.24   \n",
       "1  spring   0  january   1      no  saturday         no      clear  0.22   \n",
       "2  spring   0  january   2      no  saturday         no      clear  0.22   \n",
       "3  spring   0  january   3      no  saturday         no      clear  0.24   \n",
       "4  spring   0  january   4      no  saturday         no      clear  0.24   \n",
       "\n",
       "    atemp   hum  windspeed  casual  registered  cnt  \n",
       "0  0.2879  0.81        0.0       3          13   16  \n",
       "1  0.2727  0.80        0.0       8          32   40  \n",
       "2  0.2727  0.80        0.0       5          27   32  \n",
       "3  0.2879  0.75        0.0       3          10   13  \n",
       "4  0.2879  0.75        0.0       0           1    1  "
      ]
     },
     "execution_count": 80,
     "metadata": {},
     "output_type": "execute_result"
    }
   ],
   "source": [
    "bike = pd.read_csv(\"Bike Sharing Dataset.csv\", usecols = [2,3,4,5,6,7,8,9,10,11,12,13,14,15,16])\n",
    "bike.info()\n",
    "bike.head()"
   ]
  },
  {
   "cell_type": "code",
   "execution_count": 81,
   "metadata": {},
   "outputs": [
    {
     "name": "stdout",
     "output_type": "stream",
     "text": [
      "<class 'pandas.core.frame.DataFrame'>\n",
      "RangeIndex: 17379 entries, 0 to 17378\n",
      "Data columns (total 15 columns):\n",
      " #   Column      Non-Null Count  Dtype  \n",
      "---  ------      --------------  -----  \n",
      " 0   season      17379 non-null  object \n",
      " 1   yr          17379 non-null  int64  \n",
      " 2   mnth        17379 non-null  object \n",
      " 3   hr          17379 non-null  int64  \n",
      " 4   holiday     17379 non-null  object \n",
      " 5   weekday     17379 non-null  object \n",
      " 6   workingday  17379 non-null  object \n",
      " 7   weathersit  17379 non-null  object \n",
      " 8   temp        17379 non-null  float64\n",
      " 9   atemp       17379 non-null  float64\n",
      " 10  hum         17379 non-null  float64\n",
      " 11  windspeed   17379 non-null  float64\n",
      " 12  casual      17379 non-null  int64  \n",
      " 13  registered  17379 non-null  int64  \n",
      " 14  cnt         17379 non-null  int64  \n",
      "dtypes: float64(4), int64(5), object(6)\n",
      "memory usage: 2.0+ MB\n",
      "season        0\n",
      "yr            0\n",
      "mnth          0\n",
      "hr            0\n",
      "holiday       0\n",
      "weekday       0\n",
      "workingday    0\n",
      "weathersit    0\n",
      "temp          0\n",
      "atemp         0\n",
      "hum           0\n",
      "windspeed     0\n",
      "casual        0\n",
      "registered    0\n",
      "cnt           0\n",
      "dtype: int64\n"
     ]
    }
   ],
   "source": [
    "bike.info()\n",
    "print(bike.isnull().sum())"
   ]
  },
  {
   "cell_type": "markdown",
   "metadata": {},
   "source": [
    "#### OLS Regression"
   ]
  },
  {
   "cell_type": "code",
   "execution_count": 82,
   "metadata": {},
   "outputs": [
    {
     "data": {
      "text/html": [
       "<table class=\"simpletable\">\n",
       "<caption>OLS Regression Results</caption>\n",
       "<tr>\n",
       "  <th>Dep. Variable:</th>           <td>cnt</td>       <th>  R-squared:         </th>  <td>   0.281</td>  \n",
       "</tr>\n",
       "<tr>\n",
       "  <th>Model:</th>                   <td>OLS</td>       <th>  Adj. R-squared:    </th>  <td>   0.281</td>  \n",
       "</tr>\n",
       "<tr>\n",
       "  <th>Method:</th>             <td>Least Squares</td>  <th>  F-statistic:       </th>  <td>   2259.</td>  \n",
       "</tr>\n",
       "<tr>\n",
       "  <th>Date:</th>             <td>Wed, 29 Nov 2023</td> <th>  Prob (F-statistic):</th>   <td>  0.00</td>   \n",
       "</tr>\n",
       "<tr>\n",
       "  <th>Time:</th>                 <td>16:13:20</td>     <th>  Log-Likelihood:    </th> <td>-1.1218e+05</td>\n",
       "</tr>\n",
       "<tr>\n",
       "  <th>No. Observations:</th>      <td> 17379</td>      <th>  AIC:               </th>  <td>2.244e+05</td> \n",
       "</tr>\n",
       "<tr>\n",
       "  <th>Df Residuals:</th>          <td> 17375</td>      <th>  BIC:               </th>  <td>2.244e+05</td> \n",
       "</tr>\n",
       "<tr>\n",
       "  <th>Df Model:</th>              <td>     3</td>      <th>                     </th>      <td> </td>     \n",
       "</tr>\n",
       "<tr>\n",
       "  <th>Covariance Type:</th>      <td>nonrobust</td>    <th>                     </th>      <td> </td>     \n",
       "</tr>\n",
       "</table>\n",
       "<table class=\"simpletable\">\n",
       "<tr>\n",
       "       <td></td>         <th>coef</th>     <th>std err</th>      <th>t</th>      <th>P>|t|</th>  <th>[0.025</th>    <th>0.975]</th>  \n",
       "</tr>\n",
       "<tr>\n",
       "  <th>Intercept</th>  <td>  -84.6416</td> <td>    3.906</td> <td>  -21.669</td> <td> 0.000</td> <td>  -92.298</td> <td>  -76.985</td>\n",
       "</tr>\n",
       "<tr>\n",
       "  <th>hr</th>         <td>    9.0494</td> <td>    0.170</td> <td>   53.100</td> <td> 0.000</td> <td>    8.715</td> <td>    9.383</td>\n",
       "</tr>\n",
       "<tr>\n",
       "  <th>workingday</th> <td>    3.7938</td> <td>    2.512</td> <td>    1.511</td> <td> 0.131</td> <td>   -1.129</td> <td>    8.717</td>\n",
       "</tr>\n",
       "<tr>\n",
       "  <th>temp</th>       <td>  336.0729</td> <td>    6.129</td> <td>   54.834</td> <td> 0.000</td> <td>  324.060</td> <td>  348.086</td>\n",
       "</tr>\n",
       "</table>\n",
       "<table class=\"simpletable\">\n",
       "<tr>\n",
       "  <th>Omnibus:</th>       <td>3951.373</td> <th>  Durbin-Watson:     </th> <td>   0.484</td>\n",
       "</tr>\n",
       "<tr>\n",
       "  <th>Prob(Omnibus):</th>  <td> 0.000</td>  <th>  Jarque-Bera (JB):  </th> <td>8470.361</td>\n",
       "</tr>\n",
       "<tr>\n",
       "  <th>Skew:</th>           <td> 1.324</td>  <th>  Prob(JB):          </th> <td>    0.00</td>\n",
       "</tr>\n",
       "<tr>\n",
       "  <th>Kurtosis:</th>       <td> 5.164</td>  <th>  Cond. No.          </th> <td>    78.7</td>\n",
       "</tr>\n",
       "</table><br/><br/>Notes:<br/>[1] Standard Errors assume that the covariance matrix of the errors is correctly specified."
      ],
      "text/latex": [
       "\\begin{center}\n",
       "\\begin{tabular}{lclc}\n",
       "\\toprule\n",
       "\\textbf{Dep. Variable:}    &       cnt        & \\textbf{  R-squared:         } &      0.281   \\\\\n",
       "\\textbf{Model:}            &       OLS        & \\textbf{  Adj. R-squared:    } &      0.281   \\\\\n",
       "\\textbf{Method:}           &  Least Squares   & \\textbf{  F-statistic:       } &      2259.   \\\\\n",
       "\\textbf{Date:}             & Wed, 29 Nov 2023 & \\textbf{  Prob (F-statistic):} &      0.00    \\\\\n",
       "\\textbf{Time:}             &     16:13:20     & \\textbf{  Log-Likelihood:    } & -1.1218e+05  \\\\\n",
       "\\textbf{No. Observations:} &       17379      & \\textbf{  AIC:               } &  2.244e+05   \\\\\n",
       "\\textbf{Df Residuals:}     &       17375      & \\textbf{  BIC:               } &  2.244e+05   \\\\\n",
       "\\textbf{Df Model:}         &           3      & \\textbf{                     } &              \\\\\n",
       "\\textbf{Covariance Type:}  &    nonrobust     & \\textbf{                     } &              \\\\\n",
       "\\bottomrule\n",
       "\\end{tabular}\n",
       "\\begin{tabular}{lcccccc}\n",
       "                    & \\textbf{coef} & \\textbf{std err} & \\textbf{t} & \\textbf{P$> |$t$|$} & \\textbf{[0.025} & \\textbf{0.975]}  \\\\\n",
       "\\midrule\n",
       "\\textbf{Intercept}  &     -84.6416  &        3.906     &   -21.669  &         0.000        &      -92.298    &      -76.985     \\\\\n",
       "\\textbf{hr}         &       9.0494  &        0.170     &    53.100  &         0.000        &        8.715    &        9.383     \\\\\n",
       "\\textbf{workingday} &       3.7938  &        2.512     &     1.511  &         0.131        &       -1.129    &        8.717     \\\\\n",
       "\\textbf{temp}       &     336.0729  &        6.129     &    54.834  &         0.000        &      324.060    &      348.086     \\\\\n",
       "\\bottomrule\n",
       "\\end{tabular}\n",
       "\\begin{tabular}{lclc}\n",
       "\\textbf{Omnibus:}       & 3951.373 & \\textbf{  Durbin-Watson:     } &    0.484  \\\\\n",
       "\\textbf{Prob(Omnibus):} &   0.000  & \\textbf{  Jarque-Bera (JB):  } & 8470.361  \\\\\n",
       "\\textbf{Skew:}          &   1.324  & \\textbf{  Prob(JB):          } &     0.00  \\\\\n",
       "\\textbf{Kurtosis:}      &   5.164  & \\textbf{  Cond. No.          } &     78.7  \\\\\n",
       "\\bottomrule\n",
       "\\end{tabular}\n",
       "%\\caption{OLS Regression Results}\n",
       "\\end{center}\n",
       "\n",
       "Notes: \\newline\n",
       " [1] Standard Errors assume that the covariance matrix of the errors is correctly specified."
      ],
      "text/plain": [
       "<class 'statsmodels.iolib.summary.Summary'>\n",
       "\"\"\"\n",
       "                            OLS Regression Results                            \n",
       "==============================================================================\n",
       "Dep. Variable:                    cnt   R-squared:                       0.281\n",
       "Model:                            OLS   Adj. R-squared:                  0.281\n",
       "Method:                 Least Squares   F-statistic:                     2259.\n",
       "Date:                Wed, 29 Nov 2023   Prob (F-statistic):               0.00\n",
       "Time:                        16:13:20   Log-Likelihood:            -1.1218e+05\n",
       "No. Observations:               17379   AIC:                         2.244e+05\n",
       "Df Residuals:                   17375   BIC:                         2.244e+05\n",
       "Df Model:                           3                                         \n",
       "Covariance Type:            nonrobust                                         \n",
       "==============================================================================\n",
       "                 coef    std err          t      P>|t|      [0.025      0.975]\n",
       "------------------------------------------------------------------------------\n",
       "Intercept    -84.6416      3.906    -21.669      0.000     -92.298     -76.985\n",
       "hr             9.0494      0.170     53.100      0.000       8.715       9.383\n",
       "workingday     3.7938      2.512      1.511      0.131      -1.129       8.717\n",
       "temp         336.0729      6.129     54.834      0.000     324.060     348.086\n",
       "==============================================================================\n",
       "Omnibus:                     3951.373   Durbin-Watson:                   0.484\n",
       "Prob(Omnibus):                  0.000   Jarque-Bera (JB):             8470.361\n",
       "Skew:                           1.324   Prob(JB):                         0.00\n",
       "Kurtosis:                       5.164   Cond. No.                         78.7\n",
       "==============================================================================\n",
       "\n",
       "Notes:\n",
       "[1] Standard Errors assume that the covariance matrix of the errors is correctly specified.\n",
       "\"\"\""
      ]
     },
     "execution_count": 82,
     "metadata": {},
     "output_type": "execute_result"
    }
   ],
   "source": [
    "bike['workingday'] = bike.workingday.factorize()[0]\n",
    "bike['weathersit'] = bike.weathersit.factorize()[0]\n",
    "bike['season'] = bike.season.factorize()[0]\n",
    "bike['mnth'] = bike.mnth.factorize()[0]\n",
    "bike['weekday'] = bike.weekday.factorize()[0]\n",
    "bike['holiday'] = bike.holiday.factorize()[0]\n",
    "\n",
    "\n",
    "est = smf.ols('cnt ~ hr + workingday + temp', bike).fit()\n",
    "est.summary()"
   ]
  },
  {
   "cell_type": "markdown",
   "metadata": {},
   "source": [
    "#### Cross-Validation"
   ]
  },
  {
   "cell_type": "code",
   "execution_count": 83,
   "metadata": {},
   "outputs": [
    {
     "data": {
      "text/plain": [
       "0.29951686996646726"
      ]
     },
     "execution_count": 83,
     "metadata": {},
     "output_type": "execute_result"
    }
   ],
   "source": [
    "x = bike[['windspeed','hr','temp','season','weekday','workingday','weathersit']]\n",
    "y = bike['cnt']\n",
    "\n",
    "cv = KFold(n_splits=50, shuffle=True)\n",
    "\n",
    "model = LinearRegression()\n",
    "\n",
    "scores = cross_val_score(model, x, y, scoring='r2', cv=cv, n_jobs=-1)\n",
    "mean(absolute(scores))"
   ]
  },
  {
   "cell_type": "code",
   "execution_count": 84,
   "metadata": {},
   "outputs": [
    {
     "data": {
      "text/plain": [
       "0.3844726851842139"
      ]
     },
     "execution_count": 84,
     "metadata": {},
     "output_type": "execute_result"
    }
   ],
   "source": [
    "x = bike[['windspeed','hr','temp','season','weekday','holiday', 'workingday','weathersit', 'hum', 'yr']]\n",
    "y = bike['cnt']\n",
    "\n",
    "cv = KFold(n_splits=50, shuffle=True)\n",
    "\n",
    "model = LinearRegression()\n",
    "\n",
    "scores = cross_val_score(model, x, y, scoring='r2', cv=cv, n_jobs=-1)\n",
    "mean(absolute(scores))"
   ]
  },
  {
   "cell_type": "code",
   "execution_count": 85,
   "metadata": {},
   "outputs": [
    {
     "name": "stdout",
     "output_type": "stream",
     "text": [
      "<class 'pandas.core.frame.DataFrame'>\n",
      "RangeIndex: 17379 entries, 0 to 17378\n",
      "Data columns (total 37 columns):\n",
      " #   Column                 Non-Null Count  Dtype  \n",
      "---  ------                 --------------  -----  \n",
      " 0   yr                     17379 non-null  int64  \n",
      " 1   hr                     17379 non-null  int64  \n",
      " 2   temp                   17379 non-null  float64\n",
      " 3   atemp                  17379 non-null  float64\n",
      " 4   hum                    17379 non-null  float64\n",
      " 5   windspeed              17379 non-null  float64\n",
      " 6   season_autumn          17379 non-null  uint8  \n",
      " 7   season_spring          17379 non-null  uint8  \n",
      " 8   season_summer          17379 non-null  uint8  \n",
      " 9   season_winter          17379 non-null  uint8  \n",
      " 10  mnth_april             17379 non-null  uint8  \n",
      " 11  mnth_august            17379 non-null  uint8  \n",
      " 12  mnth_december          17379 non-null  uint8  \n",
      " 13  mnth_february          17379 non-null  uint8  \n",
      " 14  mnth_january           17379 non-null  uint8  \n",
      " 15  mnth_july              17379 non-null  uint8  \n",
      " 16  mnth_june              17379 non-null  uint8  \n",
      " 17  mnth_march             17379 non-null  uint8  \n",
      " 18  mnth_may               17379 non-null  uint8  \n",
      " 19  mnth_november          17379 non-null  uint8  \n",
      " 20  mnth_october           17379 non-null  uint8  \n",
      " 21  mnth_september         17379 non-null  uint8  \n",
      " 22  holiday_no             17379 non-null  uint8  \n",
      " 23  holiday_yes            17379 non-null  uint8  \n",
      " 24  weekday_friday         17379 non-null  uint8  \n",
      " 25  weekday_monday         17379 non-null  uint8  \n",
      " 26  weekday_saturday       17379 non-null  uint8  \n",
      " 27  weekday_sunday         17379 non-null  uint8  \n",
      " 28  weekday_thursday       17379 non-null  uint8  \n",
      " 29  weekday_tuesday        17379 non-null  uint8  \n",
      " 30  weekday_wednesday      17379 non-null  uint8  \n",
      " 31  workingday_no          17379 non-null  uint8  \n",
      " 32  workingday_yes         17379 non-null  uint8  \n",
      " 33  weathersit_clear       17379 non-null  uint8  \n",
      " 34  weathersit_heavy rain  17379 non-null  uint8  \n",
      " 35  weathersit_light rain  17379 non-null  uint8  \n",
      " 36  weathersit_misty       17379 non-null  uint8  \n",
      "dtypes: float64(4), int64(2), uint8(31)\n",
      "memory usage: 1.3 MB\n"
     ]
    }
   ],
   "source": [
    "bike_df_final = pd.read_csv(\"Bike Sharing Dataset.csv\")\n",
    "X = bike_df_final.drop(['instant', 'cnt', 'registered', 'casual', 'dteday'], axis=1)\n",
    "X.head()\n",
    "X_encoded = pd.get_dummies(X)\n",
    "X_encoded.info()"
   ]
  },
  {
   "cell_type": "markdown",
   "metadata": {},
   "source": [
    "#### Linear Regression"
   ]
  },
  {
   "cell_type": "code",
   "execution_count": 86,
   "metadata": {},
   "outputs": [
    {
     "name": "stdout",
     "output_type": "stream",
     "text": [
      "R2 Score: 0.4085837949485135\n",
      "Mean squared error is 18727.437404001554\n",
      "Root mean squared is 136.8482276246264\n"
     ]
    }
   ],
   "source": [
    "LR = LinearRegression()\n",
    "X_train, X_test, y_train, y_test = train_test_split(X_encoded, y, test_size=0.2, random_state=42)\n",
    "\n",
    "LR.fit(X_train, y_train)\n",
    "\n",
    "y_pred = LR.predict(X_test)\n",
    "print(f\"R2 Score: {r2_score(y_test, y_pred)}\")\n",
    "\n",
    "print(f\"Mean squared error is {mean_squared_error(y_test, y_pred)}\")\n",
    "\n",
    "print(f\"Root mean squared is {np.sqrt(mean_squared_error(y_test, y_pred))}\")"
   ]
  },
  {
   "cell_type": "markdown",
   "metadata": {},
   "source": [
    "#### PCA"
   ]
  },
  {
   "cell_type": "code",
   "execution_count": 87,
   "metadata": {},
   "outputs": [
    {
     "name": "stdout",
     "output_type": "stream",
     "text": [
      "X_train_pca shape: (13903, 20)\n",
      "X_test_pca shape: (3476, 20)\n",
      "X train shape:  (13903, 37)\n",
      "X test shape:  (3476, 37)\n",
      "Explained Variance Ratio: [0.10879597 0.08589582 0.0661669  0.06221031 0.05802631 0.05466345\n",
      " 0.03613398 0.03430276 0.03212476 0.03168696 0.03150665 0.03134872\n",
      " 0.0310166  0.02998625 0.02954614 0.02941608 0.02925727 0.02894849\n",
      " 0.02887805 0.02858233]\n",
      "Cumulative Variance Ratio: [0.10879597 0.19469179 0.26085869 0.323069   0.38109531 0.43575876\n",
      " 0.47189274 0.50619549 0.53832025 0.5700072  0.60151385 0.63286257\n",
      " 0.66387917 0.69386542 0.72341157 0.75282765 0.78208492 0.81103341\n",
      " 0.83991146 0.86849379]\n"
     ]
    },
    {
     "data": {
      "image/png": "[encoded data removed]",
      "text/plain": [
       "<Figure size 1000x600 with 1 Axes>"
      ]
     },
     "metadata": {},
     "output_type": "display_data"
    },
    {
     "name": "stdout",
     "output_type": "stream",
     "text": [
      "Mean Squeared Error: 20079.697722628276\n",
      "R2 Score:  0.3658791446201646\n"
     ]
    },
    {
     "data": {
      "image/png": "[encoded data removed]",
      "text/plain": [
       "<Figure size 640x480 with 1 Axes>"
      ]
     },
     "metadata": {},
     "output_type": "display_data"
    },
    {
     "name": "stdout",
     "output_type": "stream",
     "text": [
      "<class 'numpy.ndarray'>\n",
      "<class 'numpy.ndarray'>\n"
     ]
    }
   ],
   "source": [
    "mms = MinMaxScaler()\n",
    "scaler = StandardScaler()\n",
    "X_train = scaler.fit_transform(X_train)\n",
    "X_test = scaler.transform(X_test)\n",
    "\n",
    "pca = PCA(n_components=20)\n",
    "X_train_pca = pca.fit_transform(X_train)\n",
    "X_test_pca = pca.transform(X_test)\n",
    "\n",
    "print(\"X_train_pca shape:\", X_train_pca.shape)\n",
    "print(\"X_test_pca shape:\", X_test_pca.shape)\n",
    "print(\"X train shape: \", X_train.shape)\n",
    "print(\"X test shape: \", X_test.shape)\n",
    "\n",
    "explained_variance = pca.explained_variance_ratio_\n",
    "\n",
    "print(\"Explained Variance Ratio:\", explained_variance)\n",
    "\n",
    "cumulative_variance = explained_variance.cumsum()\n",
    "print(\"Cumulative Variance Ratio:\", cumulative_variance)\n",
    "\n",
    "plt.figure(figsize=(10, 6))\n",
    "plt.bar(range(1, len(explained_variance) + 1), explained_variance, label='Explained Variance Ratio', alpha=0.7)\n",
    "plt.plot(range(1, len(explained_variance) + 1), cumulative_variance, label='Cumulative Variance Ratio', marker='o', color='r')\n",
    "plt.xlabel('Principal Components')\n",
    "plt.ylabel('Variance Ratio')\n",
    "plt.legend()\n",
    "plt.title('Explained Variance and Cumulative Variance')\n",
    "plt.show()\n",
    "\n",
    "\n",
    "# Linear regression after PCA\n",
    "\n",
    "model = LinearRegression()\n",
    "\n",
    "model.fit(X_train_pca, y_train)\n",
    "\n",
    "y_pred = model.predict(X_test_pca)\n",
    "\n",
    "mse = mean_squared_error(y_test, y_pred)\n",
    "r2 = r2_score(y_test, y_pred)\n",
    "\n",
    "print(f'Mean Squeared Error: {mse}')\n",
    "print(f'R2 Score: ', r2)\n",
    "\n",
    "plt.scatter(y_test, y_pred)\n",
    "plt.xlabel('Actual Values')\n",
    "plt.ylabel('Predicted Values')\n",
    "plt.title('Actual vs Predicted Values')\n",
    "plt.show()\n",
    "\n",
    "print(type(X_train))\n",
    "print(type(X_test))"
   ]
  },
  {
   "cell_type": "markdown",
   "metadata": {},
   "source": [
    "#### Forward Stepwise Selection"
   ]
  },
  {
   "cell_type": "code",
   "execution_count": 113,
   "metadata": {},
   "outputs": [
    {
     "name": "stdout",
     "output_type": "stream",
     "text": [
      "Selected features: [ 0  5  6  8 10 11 15 16 18 19]\n",
      "Forward MSE: 20525.146649242597\n",
      "Forward R2:  0.3518117787526803\n"
     ]
    }
   ],
   "source": [
    "est = LinearRegression()\n",
    "selector = SequentialFeatureSelector(est, direction='forward', scoring='neg_mean_squared_error', n_features_to_select=10, cv=10)\n",
    "selector = selector.fit(X_train, y_train)\n",
    "\n",
    "selected_features = np.where(selector.support_)[0]\n",
    "print(\"Selected features:\", selected_features)\n",
    "\n",
    "fwd_model = LinearRegression().fit(X_train[:, selected_features], y_train)\n",
    "\n",
    "y_pred = fwd_model.predict(X_test[:, selected_features])\n",
    "mse = mean_squared_error(y_test, y_pred)\n",
    "r2 = r2_score(y_test, y_pred)\n",
    "print(\"Forward MSE:\", mse)\n",
    "print(\"Forward R2: \", r2)"
   ]
  },
  {
   "cell_type": "markdown",
   "metadata": {},
   "source": [
    "#### Backward Stepwise Selection"
   ]
  },
  {
   "cell_type": "code",
   "execution_count": 114,
   "metadata": {},
   "outputs": [
    {
     "name": "stdout",
     "output_type": "stream",
     "text": [
      "Selected features: [ 0  1  2  4  6  7 12 20 21 35]\n",
      "Backward MSE: 19051.387598155867\n",
      "Backward R2:  0.39835338326327685\n"
     ]
    }
   ],
   "source": [
    "est = LinearRegression()\n",
    "selector = SequentialFeatureSelector(est, direction='backward', scoring='neg_mean_squared_error', n_features_to_select=10, cv=10)\n",
    "selector = selector.fit(X_train, y_train)\n",
    "\n",
    "selected_features = np.where(selector.support_)[0]\n",
    "print(\"Selected features:\", selected_features)\n",
    "\n",
    "fwd_model = LinearRegression().fit(X_train[:, selected_features], y_train)\n",
    "\n",
    "y_pred = fwd_model.predict(X_test[:, selected_features])\n",
    "mse = mean_squared_error(y_test, y_pred)\n",
    "r2 = r2_score(y_test, y_pred)\n",
    "print(\"Backward MSE:\", mse)\n",
    "print(\"Backward R2: \", r2)"
   ]
  },
  {
   "cell_type": "code",
   "execution_count": 123,
   "metadata": {},
   "outputs": [],
   "source": [
    "bike_df_final = pd.read_csv('BikeSharingDatasetFinal.csv', usecols=[3, 5, 10, 11, 12, 13, 14, 15, 16, 17, 18, 19, 20, 21, 22, 23, 24])"
   ]
  },
  {
   "cell_type": "markdown",
   "metadata": {},
   "source": [
    "#### Polynomial"
   ]
  },
  {
   "cell_type": "code",
   "execution_count": 124,
   "metadata": {},
   "outputs": [
    {
     "name": "stdout",
     "output_type": "stream",
     "text": [
      "                            OLS Regression Results                            \n",
      "==============================================================================\n",
      "Dep. Variable:                    cnt   R-squared:                       0.404\n",
      "Model:                            OLS   Adj. R-squared:                  0.404\n",
      "Method:                 Least Squares   F-statistic:                 3.863e+04\n",
      "Date:                Wed, 29 Nov 2023   Prob (F-statistic):               0.00\n",
      "Time:                        16:54:24   Log-Likelihood:            -1.8163e+06\n",
      "No. Observations:              284701   AIC:                         3.633e+06\n",
      "Df Residuals:                  284695   BIC:                         3.633e+06\n",
      "Df Model:                           5                                         \n",
      "Covariance Type:            nonrobust                                         \n",
      "=====================================================================================================\n",
      "                                        coef    std err          t      P>|t|      [0.025      0.975]\n",
      "-----------------------------------------------------------------------------------------------------\n",
      "intercept                           -40.6559      0.525    -77.412      0.000     -41.685     -39.627\n",
      "poly(hr, degree=2)[0]                 0.1315      0.002     78.791      0.000       0.128       0.135\n",
      "poly(hr, degree=2)[1]             -3.442e+04    144.120   -238.795      0.000   -3.47e+04   -3.41e+04\n",
      "poly(workingday_yes, degree=2)[0]    -0.0622      0.001    -65.608      0.000      -0.064      -0.060\n",
      "poly(workingday_yes, degree=2)[1]   -11.9501      0.257    -46.583      0.000     -12.453     -11.447\n",
      "poly(temp, degree=2)[0]               3.0226      0.015    197.610      0.000       2.993       3.053\n",
      "poly(temp, degree=2)[1]           -4757.1322    143.461    -33.160      0.000   -5038.312   -4475.952\n",
      "workingday_yes                      -28.8979      0.399    -72.477      0.000     -29.679     -28.116\n",
      "temp                                295.2447      1.393    211.991      0.000     292.515     297.974\n",
      "hr                                    9.7031      0.040    245.470      0.000       9.626       9.781\n",
      "==============================================================================\n",
      "Omnibus:                    65284.441   Durbin-Watson:                   0.043\n",
      "Prob(Omnibus):                  0.000   Jarque-Bera (JB):           142156.364\n",
      "Skew:                           1.330   Prob(JB):                         0.00\n",
      "Kurtosis:                       5.215   Cond. No.                     1.19e+18\n",
      "==============================================================================\n",
      "\n",
      "Notes:\n",
      "[1] Standard Errors assume that the covariance matrix of the errors is correctly specified.\n",
      "[2] The smallest eigenvalue is 3.68e-29. This might indicate that there are\n",
      "strong multicollinearity problems or that the design matrix is singular.\n"
     ]
    }
   ],
   "source": [
    "\n",
    "y_poly1 = bike_df_final['cnt']\n",
    "\n",
    "\n",
    "x_poly1 = ModelSpec([poly('hr', degree=2),\n",
    "                     poly('workingday_yes', degree=2),\n",
    "                     poly('temp', degree=2),\n",
    "                     'workingday_yes', \n",
    "                     'temp',\n",
    "                     'hr'\n",
    "                      ]).fit_transform(bike_df_final)\n",
    "\n",
    "poly1model = sm.OLS(y_poly1, x_poly1)\n",
    "results_poly1 = poly1model.fit()\n",
    "summarize(results_poly1)\n",
    "\n",
    "print(results_poly1.summary())"
   ]
  },
  {
   "cell_type": "code",
   "execution_count": 125,
   "metadata": {},
   "outputs": [
    {
     "name": "stdout",
     "output_type": "stream",
     "text": [
      "0.3107326976962676\n",
      "Intercept:   -33.749486777658575\n",
      "Coefficient:   [-8.42307958e-14 -4.92160462e+01  3.11748204e+01  1.29659716e+02\n",
      " -6.36670713e+01  6.14666831e+00 -1.74175205e+01 -1.74175205e+01\n",
      " -1.23571562e+02 -2.68686503e+02  6.51823568e+00  2.13606864e+02\n",
      "  1.51741787e+01 -3.46219239e+00  4.14153315e+01  4.14153315e+01\n",
      " -2.56624847e+01 -1.52599702e+00  2.48599612e+01  8.69572979e-01\n",
      "  3.99245497e-02 -1.00684098e+00 -1.00684098e+00 -5.09074249e-01\n",
      " -2.63443028e+02  4.59855713e+01 -4.24313894e+00  7.75412763e+01\n",
      "  7.75412763e+01 -5.99872724e+00  1.41844654e+01 -8.39559369e-01\n",
      "  5.77273283e+00  5.77273283e+00 -1.44602800e+00 -3.22190118e-01\n",
      " -1.84965854e+00 -1.84965854e+00 -1.70013735e+00 -1.74175205e+01\n",
      " -1.74175205e+01  5.56793850e-01 -1.74175205e+01  5.56793850e-01\n",
      "  4.56663929e+01]\n",
      "Score:   0.4685867301322998\n"
     ]
    }
   ],
   "source": [
    "# poly model - 2 \n",
    "# cnt as dependent .\n",
    "# 'windspeed','hr','temp','season_cat','weekday_cat','workingday_yes', 'workingday_no', 'weathersit_cat'\n",
    "# use sklearn PolynomialFeatures.\n",
    "\n",
    "\n",
    "\n",
    "x_poly2 = bike_df_final[['windspeed', 'hr', 'temp', 'season_cat', 'weekday_cat', 'workingday_yes', 'workingday_no', 'weathersit_cat']]\n",
    "y_poly2 = bike_df_final['cnt']\n",
    "\n",
    "poly2features = PolynomialFeatures(degree=2)\n",
    "xfit_poly2 = poly2features.fit_transform(x_poly2)\n",
    "\n",
    "poly2model = LinearRegression()\n",
    "poly2model.fit(xfit_poly2, y_poly2)\n",
    "\n",
    "\n",
    "cv = KFold(n_splits=50, shuffle=True)\n",
    "\n",
    "poly2scores = cross_val_score(poly2model, x_poly2, y_poly2, scoring='r2', cv=cv, n_jobs=-1)\n",
    "print(mean(absolute(poly2scores)))\n",
    "\n",
    "print(\"Intercept:  \",poly2model.intercept_)\n",
    "print(\"Coefficient:  \", poly2model.coef_)\n",
    "print(\"Score:  \", poly2model.score(xfit_poly2, y_poly2))"
   ]
  },
  {
   "cell_type": "code",
   "execution_count": 126,
   "metadata": {},
   "outputs": [
    {
     "name": "stdout",
     "output_type": "stream",
     "text": [
      "0.5868222964100793\n",
      "Intercept:   -2.072328134498889\n",
      "Coefficient:   [-4.15111676e-11  2.25118653e+01  1.46710651e+01  2.24921975e+02\n",
      " -5.49031766e+01  9.14500250e+00  4.98499310e+00  4.98499310e+00\n",
      " -5.66567722e+01  2.75488154e+00 -1.90385761e+02  5.25600787e+00\n",
      "  2.31154963e+01 -8.72767131e+00  2.57619823e+00  1.22646357e+01\n",
      "  1.22646357e+01 -6.13178251e+00 -2.91549426e-01 -5.62616564e-01\n",
      "  1.11194353e+00  7.53178107e-01 -1.32774329e-01 -1.59706908e+00\n",
      " -1.59706908e+00 -1.08674531e-01  5.21096112e-02 -3.01162747e+02\n",
      "  5.48259876e+00 -1.30471333e+01  5.67685557e+00  5.67685557e+00\n",
      "  5.63794634e+00  3.64055830e-01  1.55341130e+01  6.03492815e-01\n",
      " -1.13027958e+00 -1.13027958e+00  1.25309486e+00 -1.50854508e-02\n",
      " -7.72196621e-01 -1.00533683e+01 -1.00533683e+01 -6.16656590e-01\n",
      "  2.65229370e-01  4.98499310e+00  4.98499310e+00  7.27486186e-01\n",
      " -6.07411638e-01  4.98499310e+00  7.27486186e-01 -6.07411638e-01\n",
      "  1.84480174e+01 -2.05560986e-02 -4.00877176e-03]\n",
      "Score:   0.671349094125335\n"
     ]
    }
   ],
   "source": [
    "# poly model - 3\n",
    "# cnt as dependent .\n",
    "# windspeed','hr','temp','season_cat','weekday_cat','workingday_yes', 'workingday_no', 'weathersit_cat', 'casual'\n",
    "# use sklearn PolynomialFeatures.\n",
    "\n",
    "\n",
    "\n",
    "x_poly3 = bike_df_final[['windspeed', 'hr', 'temp', 'season_cat', 'weekday_cat', 'workingday_yes', 'workingday_no', 'weathersit_cat', 'casual']]\n",
    "y_poly3 = bike_df_final['cnt']\n",
    "\n",
    "\n",
    "poly3features = PolynomialFeatures(degree=2)\n",
    "xfit_poly3 = poly3features.fit_transform(x_poly3)\n",
    "\n",
    "poly3model = LinearRegression()\n",
    "poly3model.fit(xfit_poly3, y_poly3)\n",
    "\n",
    "\n",
    "cv = KFold(n_splits=50, shuffle=True)\n",
    "\n",
    "poly3scores = cross_val_score(poly3model, x_poly3, y_poly3, scoring='r2', cv=cv, n_jobs=-1)\n",
    "\n",
    "print(mean(absolute(poly3scores)))\n",
    "\n",
    "print(\"Intercept:  \",poly3model.intercept_)\n",
    "print(\"Coefficient:  \", poly3model.coef_)\n",
    "print(\"Score:  \", poly3model.score(xfit_poly3, y_poly3))"
   ]
  }
 ],
 "metadata": {
  "kernelspec": {
   "display_name": "islp",
   "language": "python",
   "name": "python3"
  },
  "language_info": {
   "codemirror_mode": {
    "name": "ipython",
    "version": 3
   },
   "file_extension": ".py",
   "mimetype": "text/x-python",
   "name": "python",
   "nbconvert_exporter": "python",
   "pygments_lexer": "ipython3",
   "version": "3.11.5"
  }
 },
 "nbformat": 4,
 "nbformat_minor": 2
}
