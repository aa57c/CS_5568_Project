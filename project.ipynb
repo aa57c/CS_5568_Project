{
 "cells": [
  {
   "cell_type": "code",
   "execution_count": 335,
   "metadata": {
    "ExecuteTime": {
     "end_time": "2023-11-25T00:46:02.930780632Z",
     "start_time": "2023-11-25T00:46:02.886323291Z"
    }
   },
   "outputs": [],
   "source": [
    "import pandas as pd\n",
    "import numpy as np\n",
    "import matplotlib as mpl\n",
    "import matplotlib.pyplot as plt\n",
    "import seaborn as sns\n",
    "\n",
    "import sklearn.linear_model as skl_lm\n",
    "from sklearn.discriminant_analysis import LinearDiscriminantAnalysis\n",
    "from sklearn.discriminant_analysis import QuadraticDiscriminantAnalysis\n",
    "from sklearn.metrics import confusion_matrix, classification_report, precision_score\n",
    "from sklearn import preprocessing\n",
    "from sklearn import neighbors\n",
    "from sklearn.model_selection import train_test_split\n",
    "from sklearn.model_selection import RepeatedKFold\n",
    "from sklearn.model_selection import cross_val_score\n",
    "from sklearn.linear_model import LinearRegression\n",
    "from sklearn.linear_model import Ridge, RidgeCV, Lasso, LassoCV\n",
    "from sklearn.preprocessing import scale\n",
    "from sklearn.preprocessing import StandardScaler\n",
    "from sklearn.preprocessing import normalize\n",
    "from sklearn.metrics import mean_squared_error\n",
    "from numpy import mean, std, absolute, arange\n",
    "\n",
    "import statsmodels.api as sm\n",
    "import statsmodels.formula.api as smf"
   ]
  },
  {
   "cell_type": "code",
   "execution_count": 336,
   "metadata": {
    "ExecuteTime": {
     "end_time": "2023-11-25T00:46:02.931336110Z",
     "start_time": "2023-11-25T00:46:02.930677138Z"
    }
   },
   "outputs": [
    {
     "name": "stdout",
     "output_type": "stream",
     "text": [
      "<class 'pandas.core.frame.DataFrame'>\n",
      "RangeIndex: 17379 entries, 0 to 17378\n",
      "Data columns (total 15 columns):\n",
      " #   Column      Non-Null Count  Dtype  \n",
      "---  ------      --------------  -----  \n",
      " 0   season      17379 non-null  object \n",
      " 1   yr          17379 non-null  int64  \n",
      " 2   mnth        17379 non-null  object \n",
      " 3   hr          17379 non-null  int64  \n",
      " 4   holiday     17379 non-null  object \n",
      " 5   weekday     17379 non-null  object \n",
      " 6   workingday  17379 non-null  object \n",
      " 7   weathersit  17379 non-null  object \n",
      " 8   temp        17379 non-null  float64\n",
      " 9   atemp       17379 non-null  float64\n",
      " 10  hum         17379 non-null  float64\n",
      " 11  windspeed   17379 non-null  float64\n",
      " 12  casual      17379 non-null  int64  \n",
      " 13  registered  17379 non-null  int64  \n",
      " 14  cnt         17379 non-null  int64  \n",
      "dtypes: float64(4), int64(5), object(6)\n",
      "memory usage: 2.0+ MB\n"
     ]
    },
    {
     "data": {
      "text/plain": "   season  yr     mnth  hr holiday   weekday workingday weathersit  temp  \\\n0  spring   0  january   0      no  saturday         no      clear  0.24   \n1  spring   0  january   1      no  saturday         no      clear  0.22   \n2  spring   0  january   2      no  saturday         no      clear  0.22   \n3  spring   0  january   3      no  saturday         no      clear  0.24   \n4  spring   0  january   4      no  saturday         no      clear  0.24   \n\n    atemp   hum  windspeed  casual  registered  cnt  \n0  0.2879  0.81        0.0       3          13   16  \n1  0.2727  0.80        0.0       8          32   40  \n2  0.2727  0.80        0.0       5          27   32  \n3  0.2879  0.75        0.0       3          10   13  \n4  0.2879  0.75        0.0       0           1    1  ",
      "text/html": "<div>\n<style scoped>\n    .dataframe tbody tr th:only-of-type {\n        vertical-align: middle;\n    }\n\n    .dataframe tbody tr th {\n        vertical-align: top;\n    }\n\n    .dataframe thead th {\n        text-align: right;\n    }\n</style>\n<table border=\"1\" class=\"dataframe\">\n  <thead>\n    <tr style=\"text-align: right;\">\n      <th></th>\n      <th>season</th>\n      <th>yr</th>\n      <th>mnth</th>\n      <th>hr</th>\n      <th>holiday</th>\n      <th>weekday</th>\n      <th>workingday</th>\n      <th>weathersit</th>\n      <th>temp</th>\n      <th>atemp</th>\n      <th>hum</th>\n      <th>windspeed</th>\n      <th>casual</th>\n      <th>registered</th>\n      <th>cnt</th>\n    </tr>\n  </thead>\n  <tbody>\n    <tr>\n      <th>0</th>\n      <td>spring</td>\n      <td>0</td>\n      <td>january</td>\n      <td>0</td>\n      <td>no</td>\n      <td>saturday</td>\n      <td>no</td>\n      <td>clear</td>\n      <td>0.24</td>\n      <td>0.2879</td>\n      <td>0.81</td>\n      <td>0.0</td>\n      <td>3</td>\n      <td>13</td>\n      <td>16</td>\n    </tr>\n    <tr>\n      <th>1</th>\n      <td>spring</td>\n      <td>0</td>\n      <td>january</td>\n      <td>1</td>\n      <td>no</td>\n      <td>saturday</td>\n      <td>no</td>\n      <td>clear</td>\n      <td>0.22</td>\n      <td>0.2727</td>\n      <td>0.80</td>\n      <td>0.0</td>\n      <td>8</td>\n      <td>32</td>\n      <td>40</td>\n    </tr>\n    <tr>\n      <th>2</th>\n      <td>spring</td>\n      <td>0</td>\n      <td>january</td>\n      <td>2</td>\n      <td>no</td>\n      <td>saturday</td>\n      <td>no</td>\n      <td>clear</td>\n      <td>0.22</td>\n      <td>0.2727</td>\n      <td>0.80</td>\n      <td>0.0</td>\n      <td>5</td>\n      <td>27</td>\n      <td>32</td>\n    </tr>\n    <tr>\n      <th>3</th>\n      <td>spring</td>\n      <td>0</td>\n      <td>january</td>\n      <td>3</td>\n      <td>no</td>\n      <td>saturday</td>\n      <td>no</td>\n      <td>clear</td>\n      <td>0.24</td>\n      <td>0.2879</td>\n      <td>0.75</td>\n      <td>0.0</td>\n      <td>3</td>\n      <td>10</td>\n      <td>13</td>\n    </tr>\n    <tr>\n      <th>4</th>\n      <td>spring</td>\n      <td>0</td>\n      <td>january</td>\n      <td>4</td>\n      <td>no</td>\n      <td>saturday</td>\n      <td>no</td>\n      <td>clear</td>\n      <td>0.24</td>\n      <td>0.2879</td>\n      <td>0.75</td>\n      <td>0.0</td>\n      <td>0</td>\n      <td>1</td>\n      <td>1</td>\n    </tr>\n  </tbody>\n</table>\n</div>"
     },
     "execution_count": 336,
     "metadata": {},
     "output_type": "execute_result"
    }
   ],
   "source": [
    "bike = pd.read_csv(\"Bike Sharing Dataset.csv\", usecols = [2,3,4,5,6,7,8,9,10,11,12,13,14,15,16])\n",
    "bike.info()\n",
    "bike.head()\n"
   ]
  },
  {
   "cell_type": "code",
   "execution_count": 337,
   "metadata": {
    "ExecuteTime": {
     "end_time": "2023-11-25T00:46:02.946816244Z",
     "start_time": "2023-11-25T00:46:02.934149189Z"
    }
   },
   "outputs": [
    {
     "name": "stdout",
     "output_type": "stream",
     "text": [
      "<class 'pandas.core.frame.DataFrame'>\n",
      "RangeIndex: 17379 entries, 0 to 17378\n",
      "Data columns (total 15 columns):\n",
      " #   Column      Non-Null Count  Dtype  \n",
      "---  ------      --------------  -----  \n",
      " 0   season      17379 non-null  object \n",
      " 1   yr          17379 non-null  int64  \n",
      " 2   mnth        17379 non-null  object \n",
      " 3   hr          17379 non-null  int64  \n",
      " 4   holiday     17379 non-null  object \n",
      " 5   weekday     17379 non-null  object \n",
      " 6   workingday  17379 non-null  object \n",
      " 7   weathersit  17379 non-null  object \n",
      " 8   temp        17379 non-null  float64\n",
      " 9   atemp       17379 non-null  float64\n",
      " 10  hum         17379 non-null  float64\n",
      " 11  windspeed   17379 non-null  float64\n",
      " 12  casual      17379 non-null  int64  \n",
      " 13  registered  17379 non-null  int64  \n",
      " 14  cnt         17379 non-null  int64  \n",
      "dtypes: float64(4), int64(5), object(6)\n",
      "memory usage: 2.0+ MB\n",
      "season        0\n",
      "yr            0\n",
      "mnth          0\n",
      "hr            0\n",
      "holiday       0\n",
      "weekday       0\n",
      "workingday    0\n",
      "weathersit    0\n",
      "temp          0\n",
      "atemp         0\n",
      "hum           0\n",
      "windspeed     0\n",
      "casual        0\n",
      "registered    0\n",
      "cnt           0\n",
      "dtype: int64\n"
     ]
    }
   ],
   "source": [
    "bike.info()\n",
    "print(bike.isnull().sum())\n"
   ]
  },
  {
   "cell_type": "code",
   "execution_count": 338,
   "metadata": {
    "ExecuteTime": {
     "end_time": "2023-11-25T00:46:02.973404046Z",
     "start_time": "2023-11-25T00:46:02.941687798Z"
    }
   },
   "outputs": [
    {
     "data": {
      "text/plain": "   yr  hr  temp   atemp   hum  windspeed  casual  registered  cnt  \\\n0   0   0  0.24  0.2879  0.81        0.0       3          13   16   \n1   0   1  0.22  0.2727  0.80        0.0       8          32   40   \n2   0   2  0.22  0.2727  0.80        0.0       5          27   32   \n3   0   3  0.24  0.2879  0.75        0.0       3          10   13   \n4   0   4  0.24  0.2879  0.75        0.0       0           1    1   \n\n   season_spring  ...  weekday_monday  weekday_saturday  weekday_sunday  \\\n0           True  ...           False              True           False   \n1           True  ...           False              True           False   \n2           True  ...           False              True           False   \n3           True  ...           False              True           False   \n4           True  ...           False              True           False   \n\n   weekday_thursday  weekday_tuesday  weekday_wednesday  workingday_yes  \\\n0             False            False              False           False   \n1             False            False              False           False   \n2             False            False              False           False   \n3             False            False              False           False   \n4             False            False              False           False   \n\n   weathersit_heavy rain  weathersit_light rain  weathersit_misty  \n0                  False                  False             False  \n1                  False                  False             False  \n2                  False                  False             False  \n3                  False                  False             False  \n4                  False                  False             False  \n\n[5 rows x 34 columns]",
      "text/html": "<div>\n<style scoped>\n    .dataframe tbody tr th:only-of-type {\n        vertical-align: middle;\n    }\n\n    .dataframe tbody tr th {\n        vertical-align: top;\n    }\n\n    .dataframe thead th {\n        text-align: right;\n    }\n</style>\n<table border=\"1\" class=\"dataframe\">\n  <thead>\n    <tr style=\"text-align: right;\">\n      <th></th>\n      <th>yr</th>\n      <th>hr</th>\n      <th>temp</th>\n      <th>atemp</th>\n      <th>hum</th>\n      <th>windspeed</th>\n      <th>casual</th>\n      <th>registered</th>\n      <th>cnt</th>\n      <th>season_spring</th>\n      <th>...</th>\n      <th>weekday_monday</th>\n      <th>weekday_saturday</th>\n      <th>weekday_sunday</th>\n      <th>weekday_thursday</th>\n      <th>weekday_tuesday</th>\n      <th>weekday_wednesday</th>\n      <th>workingday_yes</th>\n      <th>weathersit_heavy rain</th>\n      <th>weathersit_light rain</th>\n      <th>weathersit_misty</th>\n    </tr>\n  </thead>\n  <tbody>\n    <tr>\n      <th>0</th>\n      <td>0</td>\n      <td>0</td>\n      <td>0.24</td>\n      <td>0.2879</td>\n      <td>0.81</td>\n      <td>0.0</td>\n      <td>3</td>\n      <td>13</td>\n      <td>16</td>\n      <td>True</td>\n      <td>...</td>\n      <td>False</td>\n      <td>True</td>\n      <td>False</td>\n      <td>False</td>\n      <td>False</td>\n      <td>False</td>\n      <td>False</td>\n      <td>False</td>\n      <td>False</td>\n      <td>False</td>\n    </tr>\n    <tr>\n      <th>1</th>\n      <td>0</td>\n      <td>1</td>\n      <td>0.22</td>\n      <td>0.2727</td>\n      <td>0.80</td>\n      <td>0.0</td>\n      <td>8</td>\n      <td>32</td>\n      <td>40</td>\n      <td>True</td>\n      <td>...</td>\n      <td>False</td>\n      <td>True</td>\n      <td>False</td>\n      <td>False</td>\n      <td>False</td>\n      <td>False</td>\n      <td>False</td>\n      <td>False</td>\n      <td>False</td>\n      <td>False</td>\n    </tr>\n    <tr>\n      <th>2</th>\n      <td>0</td>\n      <td>2</td>\n      <td>0.22</td>\n      <td>0.2727</td>\n      <td>0.80</td>\n      <td>0.0</td>\n      <td>5</td>\n      <td>27</td>\n      <td>32</td>\n      <td>True</td>\n      <td>...</td>\n      <td>False</td>\n      <td>True</td>\n      <td>False</td>\n      <td>False</td>\n      <td>False</td>\n      <td>False</td>\n      <td>False</td>\n      <td>False</td>\n      <td>False</td>\n      <td>False</td>\n    </tr>\n    <tr>\n      <th>3</th>\n      <td>0</td>\n      <td>3</td>\n      <td>0.24</td>\n      <td>0.2879</td>\n      <td>0.75</td>\n      <td>0.0</td>\n      <td>3</td>\n      <td>10</td>\n      <td>13</td>\n      <td>True</td>\n      <td>...</td>\n      <td>False</td>\n      <td>True</td>\n      <td>False</td>\n      <td>False</td>\n      <td>False</td>\n      <td>False</td>\n      <td>False</td>\n      <td>False</td>\n      <td>False</td>\n      <td>False</td>\n    </tr>\n    <tr>\n      <th>4</th>\n      <td>0</td>\n      <td>4</td>\n      <td>0.24</td>\n      <td>0.2879</td>\n      <td>0.75</td>\n      <td>0.0</td>\n      <td>0</td>\n      <td>1</td>\n      <td>1</td>\n      <td>True</td>\n      <td>...</td>\n      <td>False</td>\n      <td>True</td>\n      <td>False</td>\n      <td>False</td>\n      <td>False</td>\n      <td>False</td>\n      <td>False</td>\n      <td>False</td>\n      <td>False</td>\n      <td>False</td>\n    </tr>\n  </tbody>\n</table>\n<p>5 rows × 34 columns</p>\n</div>"
     },
     "execution_count": 338,
     "metadata": {},
     "output_type": "execute_result"
    }
   ],
   "source": [
    "bike = pd.get_dummies(bike, drop_first=True)\n",
    "bike.head()"
   ]
  },
  {
   "cell_type": "markdown",
   "source": [],
   "metadata": {
    "collapsed": false
   }
  },
  {
   "cell_type": "code",
   "execution_count": 340,
   "outputs": [],
   "source": [
    "x = bike.drop(['cnt','casual','registered'], axis=1)\n",
    "y = bike['cnt']\n",
    "\n",
    "x_train, x_test, y_train, y_test = train_test_split(x, y, test_size=0.3)"
   ],
   "metadata": {
    "collapsed": false,
    "ExecuteTime": {
     "end_time": "2023-11-25T00:46:03.648390682Z",
     "start_time": "2023-11-25T00:46:03.644590927Z"
    }
   }
  },
  {
   "cell_type": "code",
   "execution_count": 341,
   "outputs": [],
   "source": [
    "scaler = StandardScaler()\n",
    "\n",
    "x_train = scaler.fit_transform(x_train)\n",
    "x_test = scaler.transform(x_test)"
   ],
   "metadata": {
    "collapsed": false,
    "ExecuteTime": {
     "end_time": "2023-11-25T00:46:03.917436455Z",
     "start_time": "2023-11-25T00:46:03.649584123Z"
    }
   }
  },
  {
   "cell_type": "code",
   "execution_count": 342,
   "outputs": [
    {
     "name": "stdout",
     "output_type": "stream",
     "text": [
      "99\n",
      "0.4127513740380334\n",
      "0.3911391613821624\n"
     ]
    }
   ],
   "source": [
    "cv = RepeatedKFold(n_splits=10, n_repeats=10)\n",
    "model = RidgeCV(alphas=range(1,100), cv=cv, scoring='neg_mean_absolute_error')\n",
    "\n",
    "model.fit(x_train, y_train)\n",
    "\n",
    "print(model.alpha_)\n",
    "print(model.score(x_train, y_train))\n",
    "print(model.score(x_test, y_test))"
   ],
   "metadata": {
    "collapsed": false,
    "ExecuteTime": {
     "end_time": "2023-11-25T00:46:44.874526697Z",
     "start_time": "2023-11-25T00:46:03.677924154Z"
    }
   }
  },
  {
   "cell_type": "code",
   "execution_count": 343,
   "outputs": [
    {
     "name": "stdout",
     "output_type": "stream",
     "text": [
      "1\n",
      "0.4113342334275103\n",
      "0.3906604609712958\n"
     ]
    }
   ],
   "source": [
    "cv = RepeatedKFold(n_splits=10, n_repeats=10)\n",
    "model = LassoCV(alphas=range(1, 100), cv=cv)\n",
    "\n",
    "model.fit(x_train, y_train)\n",
    "\n",
    "print(model.alpha_)\n",
    "print(model.score(x_train, y_train))\n",
    "print(model.score(x_test, y_test))"
   ],
   "metadata": {
    "collapsed": false,
    "ExecuteTime": {
     "end_time": "2023-11-25T00:46:47.024354486Z",
     "start_time": "2023-11-25T00:46:44.873901831Z"
    }
   }
  }
 ],
 "metadata": {
  "kernelspec": {
   "display_name": "Python 3",
   "language": "python",
   "name": "python3"
  },
  "language_info": {
   "codemirror_mode": {
    "name": "ipython",
    "version": 3
   },
   "file_extension": ".py",
   "mimetype": "text/x-python",
   "name": "python",
   "nbconvert_exporter": "python",
   "pygments_lexer": "ipython3",
   "version": "3.11.5"
  }
 },
 "nbformat": 4,
 "nbformat_minor": 2
}
